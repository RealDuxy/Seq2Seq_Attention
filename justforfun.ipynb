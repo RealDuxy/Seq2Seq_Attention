{
 "cells": [
  {
   "cell_type": "code",
   "execution_count": 24,
   "metadata": {},
   "outputs": [],
   "source": [
    "class Round():\n",
    "    def __init__(self, color_list):\n",
    "        self.balls = color_list # count from most right\n",
    "    def right_twist(self, step=1):\n",
    "        while step > 0:\n",
    "            tmp = self.balls[7]\n",
    "            for i in range(7): # 7->6, 6 -> 5, 5->4\n",
    "                self.balls[7 - i] = self.balls[7-i-1] # 7 -> 6, 6->5, ... , 1 -> 0\n",
    "            self.balls[0] = tmp\n",
    "            step -= 1\n",
    "    \n",
    "    def right_slide(self, color1, color2):\n",
    "        tmp1 = self.balls[0]\n",
    "        tmp2 = self.balls[4]\n",
    "        self.balls[0] = color1\n",
    "        self.balls[4] = color2\n",
    "        return tmp1, tmp2\n",
    "    def __str__(self):\n",
    "        return \" \".join(self.balls)"
   ]
  },
  {
   "cell_type": "code",
   "execution_count": 25,
   "metadata": {},
   "outputs": [],
   "source": [
    "yellow = \"yellow\"\n",
    "white = \"White\"\n",
    "brown = \"Brown\"\n",
    "black = \"Black\""
   ]
  },
  {
   "cell_type": "code",
   "execution_count": 25,
   "metadata": {},
   "outputs": [],
   "source": [
    "cl1 = [black] * 8\n",
    "cl1[0], cl1[4] = \n",
    "r1 = Round([black]*8)"
   ]
  },
  {
   "cell_type": "code",
   "execution_count": 19,
   "metadata": {},
   "outputs": [],
   "source": [
    "class Game():\n",
    "    def __init__(self):\n",
    "        self.brown = Round(brown)\n",
    "        self.black = Round(black)\n",
    "        self.yellow = Round(yellow)\n",
    "        self.white = Round(white)\n",
    "        self.plate = [self.black, self.white, self.brown, self.yellow]\n",
    "        \n",
    "    def init(self, color_list):\n",
    "        for i in range(4):\n",
    "            tmp_round = self.plate[i]\n",
    "            i = i*2\n",
    "            tmp_round.init(color_list[i], color_list[i+1])\n",
    "\n",
    "    def display(self):\n",
    "        for i in range(4):\n",
    "            print(self.plate[i])"
   ]
  },
  {
   "cell_type": "code",
   "execution_count": 22,
   "metadata": {},
   "outputs": [
    {
     "name": "stdout",
     "output_type": "stream",
     "text": [
      "Black Brown Brown Brown Black Brown Brown Brown\n",
      "yellow Black Black Black White Black Black Black\n",
      "yellow yellow yellow yellow White yellow yellow yellow\n",
      "Brown White White White Brown White White White\n"
     ]
    }
   ],
   "source": [
    "game = Game()\n",
    "game.init([bl, bl, y, w, y, w, br, br])\n",
    "game.display()"
   ]
  },
  {
   "cell_type": "code",
   "execution_count": null,
   "metadata": {},
   "outputs": [],
   "source": []
  }
 ],
 "metadata": {
  "kernelspec": {
   "display_name": "Python 3",
   "language": "python",
   "name": "python3"
  },
  "language_info": {
   "codemirror_mode": {
    "name": "ipython",
    "version": 3
   },
   "file_extension": ".py",
   "mimetype": "text/x-python",
   "name": "python",
   "nbconvert_exporter": "python",
   "pygments_lexer": "ipython3",
   "version": "3.6.10"
  }
 },
 "nbformat": 4,
 "nbformat_minor": 4
}
